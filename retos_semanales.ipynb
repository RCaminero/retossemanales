{
  "nbformat": 4,
  "nbformat_minor": 0,
  "metadata": {
    "colab": {
      "provenance": [],
      "authorship_tag": "ABX9TyNVglBo2xY+zh68pv6L6Gsl",
      "include_colab_link": true
    },
    "kernelspec": {
      "name": "python3",
      "display_name": "Python 3"
    },
    "language_info": {
      "name": "python"
    }
  },
  "cells": [
    {
      "cell_type": "markdown",
      "metadata": {
        "id": "view-in-github",
        "colab_type": "text"
      },
      "source": [
        "<a href=\"https://colab.research.google.com/github/RCaminero/retossemanales/blob/RetosSemanales/retos_semanales.ipynb\" target=\"_parent\"><img src=\"https://colab.research.google.com/assets/colab-badge.svg\" alt=\"Open In Colab\"/></a>"
      ]
    },
    {
      "cell_type": "code",
      "execution_count": null,
      "metadata": {
        "id": "xvYXNIflMNbs"
      },
      "outputs": [],
      "source": [
        "# 1. Escribe un programa que muestre por consola (con un print) los\n",
        "# números de 1 a 100 (ambos incluidos y con un salto de línea entre\n",
        "# cada impresión), sustituyendo los siguientes:\n",
        "# - Múltiplos de 3 por la palabra \"fizz\".\n",
        "# - Múltiplos de 5 por la palabra \"buzz\".\n",
        "# - Múltiplos de 3 y de 5 a la vez por la palabra \"fizzbuzz\".\n",
        "\n",
        "def run():\n",
        "  for i in range(1, 101):\n",
        "    if i % 3 == 0 and i % 5 == 0:\n",
        "      print(\"fizzbuzz\")\n",
        "    elif i % 3 == 0:\n",
        "      print(\"fizz\")\n",
        "    elif i % 5 == 0:\n",
        "      print(\"buzz\")\n",
        "    else:\n",
        "      print(i)\n",
        "\n",
        "if __name__== '__main__':\n",
        "  run()"
      ]
    },
    {
      "cell_type": "code",
      "source": [
        "# 2. Escribe un programa que reciba un texto y transforme lenguaje natural a\n",
        "# \"lenguaje hacker\" (conocido realmente como \"leet\" o \"1337\"). Este lenguaje\n",
        "# se caracteriza por sustituir caracteres alfanuméricos.\n",
        "# - Utiliza esta tabla (https://www.gamehouse.com/blog/leet-speak-cheat-sheet/) \n",
        "# con el alfabeto y los números en \"leet\".\n",
        "# (Usa la primera opción de cada transformación. Por ejemplo \"4\" para la \"a\")\n",
        "\n",
        "def convToLeet(text):\n",
        "  # Diccionario leet\n",
        "  leet_dict = {\n",
        "    'a': '4',\n",
        "    'b': '8',\n",
        "    'c': '(',\n",
        "    'd': '|)',\n",
        "    'e': '3',\n",
        "    'f': '|=',\n",
        "    'g': '6',\n",
        "    'h': '|-|',\n",
        "    'i': '1',\n",
        "    'j': '_|',\n",
        "    'k': '|<',\n",
        "    'l': '|_',\n",
        "    'm': '|\\/|',\n",
        "    'n': '|\\|',\n",
        "    'o': '0',\n",
        "    'p': '|D',\n",
        "    'q': '9',\n",
        "    'r': '|2',\n",
        "    's': '5',\n",
        "    't': '7',\n",
        "    'u': '|_|',\n",
        "    'v': '\\/',\n",
        "    'w': '\\/\\/',\n",
        "    'x': '}{',\n",
        "    'y': '`/',\n",
        "    'z': '2',\n",
        "    '0': 'O',\n",
        "    '1': 'I',\n",
        "    '2': 'Z',\n",
        "    '3': 'E',\n",
        "    '4': 'A',\n",
        "    '5': 'S',\n",
        "    '6': 'G',\n",
        "    '7': 'T',\n",
        "    '8': 'B',\n",
        "    '9': 'P'\n",
        "  }\n",
        "  \n",
        "  res = \"\"\n",
        "\n",
        "  for c in text:\n",
        "    # Si el carácter está en el diccionario, lo transformamos\n",
        "    if c.lower() in leet_dict:\n",
        "      res += leet_dict[c.lower()]\n",
        "    # Si no está en el diccionario, lo dejamos tal cual\n",
        "    else:\n",
        "      res += c\n",
        "  return print(res)\n",
        "\n",
        "\n",
        "if __name__== '__main__':\n",
        "\n",
        "# testing\n",
        "  text = \"Esta es una prueba\"\n",
        "  convToLeet(text)"
      ],
      "metadata": {
        "colab": {
          "base_uri": "https://localhost:8080/"
        },
        "id": "ngjljpUZZC6L",
        "outputId": "4f4d06a5-4714-43f7-a980-f8a5e29511e5"
      },
      "execution_count": 3,
      "outputs": [
        {
          "output_type": "stream",
          "name": "stdout",
          "text": [
            "3574 35 |_||\\|4 |D|2|_|384\n"
          ]
        }
      ]
    }
  ]
}